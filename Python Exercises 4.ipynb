{
 "cells": [
  {
   "cell_type": "markdown",
   "metadata": {
    "id": "xiwltxEC5eA-"
   },
   "source": [
    "# Exercise Four\n",
    "\n",
    "In this set of exercises, you will use pandas to load and manipulate `chipotle.tsv`, a dataset containing orders from Chipotle Mexican Grill.  The data was sourced from the New York Times [Github page](https://github.com/TheUpshot/chipotle).\n",
    "\n",
    "First, let's import pandas for this notebook."
   ]
  },
  {
   "cell_type": "code",
   "execution_count": 1,
   "metadata": {
    "id": "q4QP75EW5eBB"
   },
   "outputs": [],
   "source": [
    "# load the pandas library and call it pd\n",
    "import pandas as pd"
   ]
  },
  {
   "cell_type": "markdown",
   "metadata": {
    "id": "nkcTDgLr5eBC"
   },
   "source": [
    "## 1. In The Beginning Was The Dataset\n",
    "\n",
    "Load the data from `chipotle.tsv` into a pandas Dataframe, assigning it the variable name `chip`. Then, view the first 15 entries in your new Dataframe.\n",
    "\n",
    "**Note:** Since this is a tab-separated file (not a CSV, which uses commas), you'll have to add the parameter `sep='\\t'` to your read function."
   ]
  },
  {
   "cell_type": "code",
   "execution_count": null,
   "metadata": {
    "id": "HWQsBF8U5eBC"
   },
   "outputs": [],
   "source": [
    "# your solution here\n"
   ]
  },
  {
   "cell_type": "markdown",
   "metadata": {
    "id": "NvO4boqJ5eBE"
   },
   "source": [
    "## 2. Summarizing The Data\n",
    "\n",
    "Now that you have loaded the data into a pandas dataframe, it is important to see how much and what kind of data you have."
   ]
  },
  {
   "cell_type": "markdown",
   "metadata": {
    "id": "NvO4boqJ5eBE"
   },
   "source": [
    "### 2.1 Shape of the Data\n",
    "\n",
    "First things first, it is good to get an understanding of how many rows and columns are in your dataset. Use pandas to calculate the *shape* of your dataframe, that is, display how many Chipotle orders (rows) and what information you have  (columns) are in the dataset.\n",
    "\n",
    "**Note:** There are many ways to calculate the number of rows, try a using pandas methods instead of vanilla python approaches."
   ]
  },
  {
   "cell_type": "code",
   "execution_count": null,
   "metadata": {
    "id": "pF13HfCB5eBE"
   },
   "outputs": [],
   "source": [
    "# your code goes here\n",
    "\n"
   ]
  },
  {
   "cell_type": "markdown",
   "metadata": {},
   "source": [
    "### 2.2 A *rows* by any other name would smell as sweet\n",
    "\n",
    "Look carefully at the rows of your data and think about the values in each column. What values or combination of values are unique? What does each row represent? Write your answer in Markdown in the cell below.\n",
    "\n",
    "**Note**: Sometimes the thing that is unique is a combination of values in multiple columns..."
   ]
  },
  {
   "cell_type": "markdown",
   "metadata": {},
   "source": [
    "*your answer here*\n",
    "\n"
   ]
  },
  {
   "cell_type": "markdown",
   "metadata": {},
   "source": [
    "*Solution*\n",
    "\n",
    "Each row represents an individual item in an specific order."
   ]
  },
  {
   "cell_type": "markdown",
   "metadata": {
    "id": "9v1Yz1h55eBF"
   },
   "source": [
    "### 2.3 Summarizing Sum More\n",
    "\n",
    "Pandas provides many helpful functions for summarizing and describing data. Using one of the pandas function calculate the most-ordered item in the data set by counting the unique values in the `item_name` column."
   ]
  },
  {
   "cell_type": "code",
   "execution_count": null,
   "metadata": {
    "id": "TGU5GEON5eBF"
   },
   "outputs": [],
   "source": [
    "# your solution here\n",
    "\n"
   ]
  },
  {
   "cell_type": "markdown",
   "metadata": {
    "id": "2YAItjVH5eBG"
   },
   "source": [
    "## 3. The Gang Goes To Chipotle\n",
    "\n",
    "You and your best friends all went to Chipotle and therefore a record of your order is in the dataset!\n",
    "\n",
    "![Friends](https://upload.wikimedia.org/wikipedia/en/d/d6/Friends_season_one_cast.jpg)\n",
    "\n",
    "Looking at the receipt you know that your order ID was 953. Lets use this information to create "
   ]
  },
  {
   "cell_type": "markdown",
   "metadata": {
    "id": "2YAItjVH5eBG"
   },
   "source": [
    "### 3.1 Separate your order data\n",
    "\n",
    "Create a new Dataframe that contains a subset of the data where the order ID equals 953. This should give you a dataframe of 8 rows (three burritos and five burrito bowls, yum!).\n",
    "\n",
    "**Note**: Make sure to make a copy of the Dataframe so we can modify it for the next question."
   ]
  },
  {
   "cell_type": "code",
   "execution_count": null,
   "metadata": {},
   "outputs": [],
   "source": [
    "# your answer here\n"
   ]
  },
  {
   "cell_type": "markdown",
   "metadata": {
    "id": "2YAItjVH5eBG"
   },
   "source": [
    "### 3.2 Add your friends to the data!\n",
    "\n",
    "First, create a Python list of your friends, one for each item ordered in order 953. You have 8 friends (one for each item in the order in the question above). So popular!\n",
    "\n",
    "Next, add a new column called ```friend_name``` and add the Series of your friends' as the data for that column.\n",
    "\n",
    "**Note:** Make sure your friend order dataframe is a copy, otherwise you will get a weird error from pandas."
   ]
  },
  {
   "cell_type": "code",
   "execution_count": null,
   "metadata": {
    "id": "4XUT3mMW5eBG"
   },
   "outputs": [],
   "source": [
    "# your code goes here\n",
    "\n"
   ]
  },
  {
   "cell_type": "markdown",
   "metadata": {
    "id": "PP20Lf2E5eBH"
   },
   "source": [
    "## 4. High Rollers\n",
    "\n",
    "Some people *really* like Chipotle. Use pandas functions to see what was the most expensive order in the dataset. \n",
    "\n",
    "1. Split - Group the data by order ids (hint: `groupby`)\n",
    "2. Apply - Calculate the sum of each group (hint: `sum`)\n",
    "3. Combine - Sort the values by price and change the sort order (hint: `sort_values`)\n",
    "\n",
    "\n",
    "**Hint:** You can read up on how to use the `sort_values` function in the [pandas documentation](https://pandas.pydata.org/docs/reference/api/pandas.DataFrame.sort_values.html)\n"
   ]
  },
  {
   "cell_type": "code",
   "execution_count": null,
   "metadata": {
    "id": "Ga60Bcqz5eBH"
   },
   "outputs": [],
   "source": [
    "# your code here\n",
    "\n"
   ]
  },
  {
   "cell_type": "markdown",
   "metadata": {
    "id": "OOQlol5b5eBH"
   },
   "source": [
    "## 5. Let's go bowling\n",
    "\n",
    "There are many different kinds of bowls in this dataset. Your final task will be to calculate what is the average price paid for each of the different kinds of bowls. You can answer this question in three lines of pandas code:\n",
    "\n",
    "1. Create a mask for when the `item_name` contains the word \"Bowl\" (hint: chck out the vectorized string method `contains()`)\n",
    "2. Create a new dataframe with a subset of the data\n",
    "3. Group the data by the different types of bowls and calculate the average.\n",
    "\n"
   ]
  },
  {
   "cell_type": "code",
   "execution_count": null,
   "metadata": {},
   "outputs": [],
   "source": [
    "# your code here\n"
   ]
  }
 ],
 "metadata": {
  "colab": {
   "name": "FourthExerciseDraft-mcb.ipynb",
   "provenance": []
  },
  "interpreter": {
   "hash": "aee8b7b246df8f9039afb4144a1f6fd8d2ca17a180786b69acc140d282b71a49"
  },
  "kernelspec": {
   "display_name": "Python 3 (ipykernel)",
   "language": "python",
   "name": "python3"
  },
  "language_info": {
   "codemirror_mode": {
    "name": "ipython",
    "version": 3
   },
   "file_extension": ".py",
   "mimetype": "text/x-python",
   "name": "python",
   "nbconvert_exporter": "python",
   "pygments_lexer": "ipython3",
   "version": "3.8.8"
  }
 },
 "nbformat": 4,
 "nbformat_minor": 4
}
