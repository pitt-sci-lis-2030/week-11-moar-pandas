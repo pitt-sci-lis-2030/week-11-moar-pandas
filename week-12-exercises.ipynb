{
 "cells": [
  {
   "cell_type": "markdown",
   "metadata": {},
   "source": [
    "# Pandas"
   ]
  },
  {
   "cell_type": "markdown",
   "metadata": {},
   "source": [
    "**Q1(a)** Import the pandas module and read the `treedata.csv` file into a dataframe.\n",
    "* Hint: Use the Pandas method for readings csv files, NOT the Python method."
   ]
  },
  {
   "cell_type": "code",
   "execution_count": null,
   "metadata": {},
   "outputs": [],
   "source": [
    "# Your code here\n"
   ]
  },
  {
   "cell_type": "markdown",
   "metadata": {},
   "source": [
    "**Q1(b)** Using the previously imported data, create a new dataframe that only contains rows for the delicious Sugar Maple tree.\n",
    "* Hint: Use a *query mask* to select only trees with a specific name"
   ]
  },
  {
   "cell_type": "code",
   "execution_count": null,
   "metadata": {},
   "outputs": [],
   "source": [
    "# Your code here\n"
   ]
  },
  {
   "cell_type": "markdown",
   "metadata": {},
   "source": [
    "**Q2(a)** Going back to the original tree dataframe. For each type of tree, compute the average height, width, and average overall benefits dollar value. \n",
    "* Hint: Use groupby to create groups based on a particular column, perform your calculation, then select just the columns asked for in the question."
   ]
  },
  {
   "cell_type": "code",
   "execution_count": null,
   "metadata": {},
   "outputs": [],
   "source": [
    "# your code here\n"
   ]
  },
  {
   "cell_type": "markdown",
   "metadata": {},
   "source": [
    "**Q2(b)** Using the original tree dataframe. For each neighborhood *and* type of tree, calculate the total benefits in dollars each tree brings to the neighborhood.\n",
    "* Hint: You can group by more than one column name, but you'll need to use a list."
   ]
  },
  {
   "cell_type": "code",
   "execution_count": null,
   "metadata": {},
   "outputs": [],
   "source": [
    "# Your code here\n"
   ]
  },
  {
   "cell_type": "markdown",
   "metadata": {},
   "source": [
    "**Q3** What is the most valuable tree in Pittsburgh?\n",
    "* Hint: Look at week 11 for how to answer this question. How did we find a long dog name?"
   ]
  },
  {
   "cell_type": "code",
   "execution_count": 72,
   "metadata": {},
   "outputs": [],
   "source": [
    "# Your code here\n"
   ]
  },
  {
   "cell_type": "code",
   "execution_count": null,
   "metadata": {},
   "outputs": [],
   "source": []
  }
 ],
 "metadata": {
  "kernelspec": {
   "display_name": "Python 3",
   "language": "python",
   "name": "python3"
  },
  "language_info": {
   "codemirror_mode": {
    "name": "ipython",
    "version": 3
   },
   "file_extension": ".py",
   "mimetype": "text/x-python",
   "name": "python",
   "nbconvert_exporter": "python",
   "pygments_lexer": "ipython3",
   "version": "3.8.5"
  }
 },
 "nbformat": 4,
 "nbformat_minor": 4
}
